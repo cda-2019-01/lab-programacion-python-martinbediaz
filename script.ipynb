{
 "cells": [
  {
   "cell_type": "code",
   "execution_count": 6,
   "metadata": {},
   "outputs": [],
   "source": [
    "#import pandas as pd\n",
    "#import numpy as np\n",
    "#df = pd.read_csv(\"data2.csv\", header=None, sep=\";\")\n",
    "#df.groupby([0])[1].sum()\n",
    "#df.groupby([0])[1].sum()\n",
    "#print(df.groupby(0)[0].count())"
   ]
  },
  {
   "cell_type": "code",
   "execution_count": 18,
   "metadata": {
    "scrolled": true
   },
   "outputs": [
    {
     "name": "stdout",
     "output_type": "stream",
     "text": [
      "190\n"
     ]
    }
   ],
   "source": [
    "import csv\n",
    "#print(open('data2.csv', 'r').read())\n",
    "with open('data3.csv', 'r') as f:\n",
    "    f = csv.reader(f, delimiter=',')#, quoting=csv.QUOTE_NONNUMERIC\n",
    "    ## se lee una linea a la vez\n",
    "    cantidad=0\n",
    "    for r in f:\n",
    "        cont=1\n",
    "        for z in r:\n",
    "            if(cont==2):\n",
    "                cantidad+=int(z)\n",
    "            cont+=1\n",
    "    print(cantidad)"
   ]
  },
  {
   "cell_type": "code",
   "execution_count": 79,
   "metadata": {},
   "outputs": [
    {
     "name": "stdout",
     "output_type": "stream",
     "text": [
      "A,8\n",
      "B,7\n",
      "C,5\n",
      "D,6\n",
      "E,14\n"
     ]
    }
   ],
   "source": [
    "import csv\n",
    "letras={}\n",
    "with open('data3.csv', 'r') as f:\n",
    "    f = csv.reader(f, delimiter=',')#, quoting=csv.QUOTE_NONNUMERIC\n",
    "    letras={}\n",
    "    for r in f:\n",
    "        cont=1\n",
    "        for z in r: \n",
    "            if(cont==1):\n",
    "                ya_esta=False\n",
    "                for valor in letras.keys():\n",
    "                    if (valor==z):\n",
    "                        ya_esta=True\n",
    "                        aux=letras[valor]+1\n",
    "                        letras[valor]=aux\n",
    "                        \n",
    "                if ya_esta==False:\n",
    "                    letras[z]=1          \n",
    "            cont+=1\n",
    "    for letra in sorted(letras):\n",
    "        print (letra+\",\"+str(letras[letra]))"
   ]
  },
  {
   "cell_type": "code",
   "execution_count": 88,
   "metadata": {},
   "outputs": [
    {
     "name": "stdout",
     "output_type": "stream",
     "text": [
      "A,37\n",
      "B,36\n",
      "C,27\n",
      "D,23\n",
      "E,67\n"
     ]
    }
   ],
   "source": [
    "import csv\n",
    "letras={}\n",
    "with open('data3.csv', 'r') as f:\n",
    "    f = csv.reader(f, delimiter=',')#, quoting=csv.QUOTE_NONNUMERIC\n",
    "    letras={}\n",
    "    for r in f:\n",
    "        ya_esta=False\n",
    "        for valor in letras.keys():\n",
    "            if (valor==r[0]):\n",
    "                ya_esta=True\n",
    "                aux=int(r[1]) + int(letras[r[0]])\n",
    "                letras[valor]=aux       \n",
    "        if ya_esta==False:\n",
    "            letras[r[0]]=r[1]\n",
    "                   \n",
    "    for letra in sorted(letras):\n",
    "        print (letra+\",\"+str(letras[letra]))"
   ]
  },
  {
   "cell_type": "code",
   "execution_count": 100,
   "metadata": {},
   "outputs": [
    {
     "name": "stdout",
     "output_type": "stream",
     "text": [
      "01,3\n",
      "02,4\n",
      "03,2\n",
      "04,4\n",
      "05,3\n",
      "06,3\n",
      "07,5\n",
      "08,6\n",
      "09,3\n",
      "10,2\n",
      "11,2\n",
      "12,3\n"
     ]
    }
   ],
   "source": [
    "import csv\n",
    "letras={}\n",
    "with open('data3.csv', 'r') as f:\n",
    "    f = csv.reader(f, delimiter=',')#, quoting=csv.QUOTE_NONNUMERIC\n",
    "    letras={}\n",
    "    for r in f:\n",
    "        fecha=r[2].split('-')\n",
    "        #print()        \n",
    "        ya_esta=False\n",
    "        for valor in letras.keys():\n",
    "            if (valor==fecha[1]):\n",
    "                ya_esta=True\n",
    "                aux=int(letras[valor]) + 1\n",
    "                letras[valor]=aux       \n",
    "        if ya_esta==False:\n",
    "            letras[fecha[1]]=1\n",
    "                   \n",
    "    for letra in sorted(letras):\n",
    "        print (letra+\",\"+str(letras[letra]))"
   ]
  },
  {
   "cell_type": "code",
   "execution_count": 125,
   "metadata": {},
   "outputs": [
    {
     "name": "stdout",
     "output_type": "stream",
     "text": [
      "A,9,1\n",
      "B,9,1\n",
      "C,9,0\n",
      "D,7,1\n",
      "E,9,1\n"
     ]
    }
   ],
   "source": [
    "import csv\n",
    "letras={}\n",
    "with open('data3.csv', 'r') as f:\n",
    "    f = csv.reader(f, delimiter=',')#, quoting=csv.QUOTE_NONNUMERIC\n",
    "    letras={}\n",
    "    for r in f:\n",
    "        #fecha=r[2].split('-')\n",
    "        ya_esta=False\n",
    "        for valor in letras.keys():\n",
    "            if(valor==r[0]):\n",
    "                ya_esta=True\n",
    "                if(r[1]>letras[r[0]][0]):\n",
    "                    letras[r[0]][0]=r[1]\n",
    "                if(letras[r[0]][1] > r[1]):\n",
    "                    letras[r[0]][1]=r[1]                    \n",
    "                #aux=int(letras[valor]) + 1\n",
    "                #letras[valor]=aux       \n",
    "        if ya_esta==False:\n",
    "            letras[r[0]]=[r[1],r[1]]\n",
    "            #print(letras[r[0]])\n",
    "                   \n",
    "    for letra in sorted(letras):\n",
    "        print (letra+\",\"+str(letras[letra][0])+','+str(letras[letra][1]))"
   ]
  },
  {
   "cell_type": "code",
   "execution_count": 163,
   "metadata": {},
   "outputs": [
    {
     "name": "stdout",
     "output_type": "stream",
     "text": [
      "aaa,0,9\n",
      "bbb,0,9\n",
      "ccc,0,9\n",
      "ddd,0,9\n",
      "eee,0,7\n",
      "fff,0,9\n",
      "ggg,0,9\n",
      "hhh,0,9\n",
      "iii,0,9\n",
      "jjj,0,9\n"
     ]
    }
   ],
   "source": [
    "import csv\n",
    "with open('data3.csv', 'r') as f:\n",
    "    f = csv.reader(f, delimiter=',')#, quoting=csv.QUOTE_NONNUMERIC\n",
    "    letras={}\n",
    "    for r in f:\n",
    "        lineas=r[4].split(';')\n",
    "        for l in lineas:\n",
    "            valores=l.split(':')\n",
    "            #print(valores)\n",
    "            ya_esta=False \n",
    "            for letra in letras.keys():             \n",
    "                if(letra==valores[0]):\n",
    "                    ya_esta=True\n",
    "                    if(valores[1] < letras[valores[0]][0]):\n",
    "                        letras[valores[0]][0]=valores[1]\n",
    "                    if(letras[valores[0]][1] < valores[1]):\n",
    "                        letras[valores[0]][1]=valores[1]                       \n",
    "            if (ya_esta==False):\n",
    "                letras[valores[0]]=[valores[1],valores[1]]\n",
    "                #print(letras[valores[0]])\n",
    "                   \n",
    "    for letra in sorted(letras):\n",
    "        print (letra+\",\"+str(letras[letra][0])+','+str(letras[letra][1]))"
   ]
  },
  {
   "cell_type": "code",
   "execution_count": 321,
   "metadata": {},
   "outputs": [
    {
     "name": "stdout",
     "output_type": "stream",
     "text": [
      "('0', ['C'])\n",
      "('1', ['E', 'B', 'D', 'A', 'A', 'E'])\n",
      "('2', ['A', 'E', 'D'])\n",
      "('3', ['A', 'B', 'D', 'E', 'E'])\n",
      "('4', ['E', 'B'])\n",
      "('5', ['B', 'C', 'D', 'D', 'E', 'E', 'E'])\n",
      "('6', ['C', 'E', 'A', 'B'])\n",
      "('7', ['A', 'C', 'E', 'D'])\n",
      "('8', ['E', 'E', 'A', 'B'])\n",
      "('9', ['A', 'B', 'E', 'C'])\n"
     ]
    }
   ],
   "source": [
    "import csv\n",
    "with open('data3.csv', 'r') as f:\n",
    "    f = csv.reader(f, delimiter=',')#, quoting=csv.QUOTE_NONNUMERIC\n",
    "    letras={}\n",
    "    for r in f:\n",
    "        lista=[r[0]]        \n",
    "        ya_esta=False\n",
    "        for valor in letras.keys():\n",
    "            if (valor==r[1]):\n",
    "                ya_esta=True\n",
    "                letras[r[1]].append(r[0])\n",
    "        if (ya_esta==False):\n",
    "            letras[r[1]]=[0]\n",
    "            letras[r[1]][0]=r[0]\n",
    "\n",
    "    for letra in sorted(letras):\n",
    "        tupla=letra,letras[letra]\n",
    "        print (tupla)"
   ]
  },
  {
   "cell_type": "code",
   "execution_count": 326,
   "metadata": {},
   "outputs": [
    {
     "name": "stdout",
     "output_type": "stream",
     "text": [
      "('0', ['C'])\n",
      "('1', ['E', 'B', 'D', 'A', 'A', 'E'])\n",
      "('2', ['A', 'E', 'D'])\n",
      "('3', ['A', 'B', 'D', 'E', 'E'])\n",
      "('4', ['E', 'B'])\n",
      "('5', ['B', 'C', 'D', 'D', 'E', 'E', 'E'])\n",
      "('6', ['C', 'E', 'A', 'B'])\n",
      "('7', ['A', 'C', 'E', 'D'])\n",
      "('8', ['E', 'E', 'A', 'B'])\n",
      "('9', ['A', 'B', 'E', 'C'])\n"
     ]
    }
   ],
   "source": [
    "import csv\n",
    "with open('data3.csv', 'r') as f:\n",
    "    f = csv.reader(f, delimiter=',')#, quoting=csv.QUOTE_NONNUMERIC\n",
    "    letras={}\n",
    "    for r in f:\n",
    "        lista=[r[0]]        \n",
    "        ya_esta=False\n",
    "        for valor in letras.keys():\n",
    "            if (valor==r[1]):\n",
    "                ya_esta=True\n",
    "                letras[r[1]].append(r[0])\n",
    "        if (ya_esta==False):\n",
    "            letras[r[1]]=[0]\n",
    "            letras[r[1]][0]=r[0]\n",
    "\n",
    "    for letra in sorted(letras):\n",
    "        tupla=letra,letras[letra]\n",
    "        print (tupla)"
   ]
  },
  {
   "cell_type": "code",
   "execution_count": 332,
   "metadata": {},
   "outputs": [
    {
     "name": "stdout",
     "output_type": "stream",
     "text": [
      "('0', ['C'])\n",
      "('1', ['A', 'A', 'B', 'D', 'E', 'E'])\n",
      "('2', ['A', 'D', 'E'])\n",
      "('3', ['A', 'B', 'D', 'E', 'E'])\n",
      "('4', ['B', 'E'])\n",
      "('5', ['B', 'C', 'D', 'D', 'E', 'E', 'E'])\n",
      "('6', ['A', 'B', 'C', 'E'])\n",
      "('7', ['A', 'C', 'D', 'E'])\n",
      "('8', ['A', 'B', 'E', 'E'])\n",
      "('9', ['A', 'B', 'C', 'E'])\n"
     ]
    }
   ],
   "source": [
    "import csv\n",
    "with open('data3.csv', 'r') as f:\n",
    "    f = csv.reader(f, delimiter=',')#, quoting=csv.QUOTE_NONNUMERIC\n",
    "    letras={}\n",
    "    for r in f:\n",
    "        lista=[r[0]]        \n",
    "        ya_esta=False\n",
    "        for valor in letras.keys():\n",
    "            if (valor==r[1]):\n",
    "                ya_esta=True\n",
    "                letras[r[1]].append(r[0])\n",
    "        if (ya_esta==False):\n",
    "            letras[r[1]]=[0]\n",
    "            letras[r[1]][0]=r[0]\n",
    "\n",
    "    for letra in sorted(letras.keys()):#sorted\n",
    "        tupla=letra,sorted(letras[letra])\n",
    "        print (tupla)"
   ]
  },
  {
   "cell_type": "code",
   "execution_count": 335,
   "metadata": {},
   "outputs": [
    {
     "name": "stdout",
     "output_type": "stream",
     "text": [
      "('0', ['C'])\n",
      "('1', ['A', 'B', 'D', 'E'])\n",
      "('2', ['A', 'D', 'E'])\n",
      "('3', ['A', 'B', 'D', 'E'])\n",
      "('4', ['B', 'E'])\n",
      "('5', ['B', 'C', 'D', 'E'])\n",
      "('6', ['A', 'B', 'C', 'E'])\n",
      "('7', ['A', 'C', 'D', 'E'])\n",
      "('8', ['A', 'B', 'E'])\n",
      "('9', ['A', 'B', 'C', 'E'])\n"
     ]
    }
   ],
   "source": [
    "import csv\n",
    "with open('data3.csv', 'r') as f:\n",
    "    f = csv.reader(f, delimiter=',')#, quoting=csv.QUOTE_NONNUMERIC\n",
    "    letras={}\n",
    "    for r in f:\n",
    "        lista=[r[0]]        \n",
    "        ya_esta=False\n",
    "        for valor in letras.keys():\n",
    "            if (valor==r[1]):\n",
    "                ya_esta=True\n",
    "                letras[r[1]].append(r[0])\n",
    "        if (ya_esta==False):\n",
    "            letras[r[1]]=[0]\n",
    "            letras[r[1]][0]=r[0]\n",
    "\n",
    "    for letra in sorted(letras.keys()):#sorted\n",
    "        tupla=letra,sorted(list(set(letras[letra])))\n",
    "        print (tupla)"
   ]
  },
  {
   "cell_type": "code",
   "execution_count": 341,
   "metadata": {},
   "outputs": [
    {
     "name": "stdout",
     "output_type": "stream",
     "text": [
      "aaa,13\n",
      "bbb,16\n",
      "ccc,23\n",
      "ddd,23\n",
      "eee,15\n",
      "fff,20\n",
      "ggg,13\n",
      "hhh,16\n",
      "iii,18\n",
      "jjj,18\n"
     ]
    }
   ],
   "source": [
    "import csv\n",
    "with open('data3.csv', 'r') as f:\n",
    "    f = csv.reader(f, delimiter=',')#, quoting=csv.QUOTE_NONNUMERIC\n",
    "    letras={}\n",
    "    for r in f:\n",
    "        lineas=r[4].split(';')\n",
    "        for l in lineas:\n",
    "            valores=l.split(':')\n",
    "            ya_esta=False \n",
    "            for letra in letras.keys():             \n",
    "                if(letra==valores[0]):\n",
    "                    ya_esta=True\n",
    "                    aux=letras[valores[0]]+1\n",
    "                    letras[valores[0]]=aux                     \n",
    "            if (ya_esta==False):\n",
    "                letras[valores[0]]=1                   \n",
    "    for letra in sorted(letras):\n",
    "        print (letra+\",\"+str(letras[letra]))"
   ]
  },
  {
   "cell_type": "code",
   "execution_count": 344,
   "metadata": {},
   "outputs": [
    {
     "name": "stdout",
     "output_type": "stream",
     "text": [
      "E,3,5\n",
      "A,3,4\n",
      "B,4,4\n",
      "A,2,4\n",
      "C,4,4\n",
      "A,2,5\n",
      "A,3,6\n",
      "B,2,3\n",
      "E,4,6\n",
      "B,4,6\n",
      "C,4,5\n",
      "C,4,3\n",
      "D,4,5\n",
      "E,2,3\n",
      "B,2,5\n",
      "D,2,4\n",
      "E,3,6\n",
      "D,2,3\n",
      "E,4,3\n",
      "E,2,3\n",
      "E,2,3\n",
      "E,3,3\n",
      "D,3,3\n",
      "A,3,5\n",
      "E,2,6\n",
      "E,3,6\n",
      "A,3,3\n",
      "E,3,5\n",
      "A,2,5\n",
      "C,4,6\n",
      "A,2,5\n",
      "D,2,6\n",
      "E,2,4\n",
      "B,3,6\n",
      "B,3,5\n",
      "D,2,3\n",
      "B,2,5\n",
      "C,4,3\n",
      "E,2,3\n",
      "E,3,3\n"
     ]
    }
   ],
   "source": [
    "import csv\n",
    "with open('data3.csv', 'r') as f:\n",
    "    f = csv.reader(f, delimiter=',')#, quoting=csv.QUOTE_NONNUMERIC\n",
    "    for r in f:\n",
    "        lineas=r[3].split(';')\n",
    "        lineas2=r[4].split(';')\n",
    "        print(r[0]+','+str(len(lineas))+','+str(len(lineas2)))"
   ]
  },
  {
   "cell_type": "code",
   "execution_count": 384,
   "metadata": {},
   "outputs": [
    {
     "name": "stdout",
     "output_type": "stream",
     "text": [
      "a,114\n",
      "b,40\n",
      "c,91\n",
      "d,65\n",
      "e,79\n",
      "f,110\n",
      "g,35\n"
     ]
    }
   ],
   "source": [
    "import csv\n",
    "with open('data3.csv', 'r') as f:\n",
    "    f = csv.reader(f, delimiter=',')#, quoting=csv.QUOTE_NONNUMERIC\n",
    "    letras={}\n",
    "    for r in f:\n",
    "        letra=r[3].split(';')\n",
    "        for l in letra:  \n",
    "            existe=False            \n",
    "            for x in letras:\n",
    "                if(x==l):\n",
    "                    existe=True\n",
    "            if existe==True:\n",
    "                valor=int(r[1])+int(letras[l])\n",
    "            else:\n",
    "                valor=r[1]\n",
    "            letras[l]=valor\n",
    "    for letra in sorted(letras):\n",
    "        print (letra+\",\"+str(letras[letra]))"
   ]
  },
  {
   "cell_type": "code",
   "execution_count": 396,
   "metadata": {
    "scrolled": true
   },
   "outputs": [
    {
     "name": "stdout",
     "output_type": "stream",
     "text": [
      "E,22\n",
      "A,14\n",
      "B,14\n",
      "A,22\n",
      "C,18\n",
      "A,14\n",
      "A,23\n",
      "B,6\n",
      "E,31\n",
      "B,30\n",
      "C,13\n",
      "C,22\n",
      "D,24\n",
      "E,14\n",
      "B,18\n",
      "D,18\n",
      "E,29\n",
      "D,18\n",
      "E,16\n",
      "E,13\n",
      "E,15\n",
      "E,20\n",
      "D,12\n",
      "A,20\n",
      "E,31\n",
      "E,21\n",
      "A,9\n",
      "E,25\n",
      "A,21\n",
      "C,20\n",
      "A,23\n",
      "D,32\n",
      "E,11\n",
      "B,24\n",
      "B,24\n",
      "D,8\n",
      "B,18\n",
      "C,8\n",
      "E,11\n",
      "E,16\n"
     ]
    }
   ],
   "source": [
    "import csv\n",
    "with open('data3.csv', 'r') as f:\n",
    "    f = csv.reader(f, delimiter=',')#, quoting=csv.QUOTE_NONNUMERIC\n",
    "    for r in f:\n",
    "        letra=r[4].split(';')\n",
    "        cont=0\n",
    "        for l in letra:  \n",
    "            valor=l.split(':')\n",
    "            cont+=int(valor[1])\n",
    "        print(r[0]+','+str(cont))        "
   ]
  },
  {
   "cell_type": "code",
   "execution_count": null,
   "metadata": {},
   "outputs": [],
   "source": []
  }
 ],
 "metadata": {
  "kernelspec": {
   "display_name": "Python 3",
   "language": "python",
   "name": "python3"
  },
  "language_info": {
   "codemirror_mode": {
    "name": "ipython",
    "version": 3
   },
   "file_extension": ".py",
   "mimetype": "text/x-python",
   "name": "python",
   "nbconvert_exporter": "python",
   "pygments_lexer": "ipython3",
   "version": "3.7.3"
  }
 },
 "nbformat": 4,
 "nbformat_minor": 2
}
